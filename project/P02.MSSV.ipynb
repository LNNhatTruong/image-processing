{
 "cells": [
  {
   "cell_type": "markdown",
   "metadata": {},
   "source": [
    "# Project 02 - Image Processing"
   ]
  },
  {
   "cell_type": "markdown",
   "metadata": {},
   "source": [
    "## Thông tin sinh viên"
   ]
  },
  {
   "cell_type": "markdown",
   "metadata": {},
   "source": [
    "- Họ và tên: Lê Nguyễn Nhật Trường\n",
    "- MSSV: 23127136\n",
    "- Lớp: 23CLC02"
   ]
  },
  {
   "cell_type": "markdown",
   "metadata": {},
   "source": [
    "## Import các thư viện liên quan"
   ]
  },
  {
   "cell_type": "code",
   "execution_count": null,
   "metadata": {},
   "outputs": [],
   "source": [
    "from PIL import Image # for read, write image\n",
    "import numpy as np # for matrix compute\n",
    "import matplotlib.pyplot as plt # for show image\n",
    "import colorsys # for convert RGB to HSL"
   ]
  },
  {
   "cell_type": "markdown",
   "metadata": {},
   "source": [
    "## Helper functions"
   ]
  },
  {
   "cell_type": "code",
   "execution_count": null,
   "metadata": {},
   "outputs": [],
   "source": [
    "# Any optional parameters beyond the required ones should be defined with default values\n",
    "\n",
    "def read_img(img_path):\n",
    "    ''' Read image from img_path\n",
    "    returns a 2D image (numpy array)\n",
    "    '''\n",
    "\n",
    "def show_img(img_2d):\n",
    "    ''' Show image\n",
    "    '''\n",
    "\n",
    "def convert_rgb_to_hsl(img_2d):\n",
    "    ''' Convert RGB image to HSL image\n",
    "    returns a 2D image (numpy array)\n",
    "    '''\n",
    "\n",
    "def convert_hsl_to_rgb(img_2d):\n",
    "    ''' Convert HSL image to RGB image\n",
    "    returns a 2D image (numpy array)\n",
    "    '''\n",
    "\n",
    "def process_image(img_2d, func=[1, 2, 3,...]):\n",
    "    ''' Process image with a list of functions\n",
    "    func: a list of functions to apply to the image\n",
    "    return processed 2D image\n",
    "    '''\n",
    "    \n"
   ]
  },
  {
   "attachments": {},
   "cell_type": "markdown",
   "metadata": {},
   "source": [
    "## Your tests"
   ]
  },
  {
   "cell_type": "code",
   "execution_count": null,
   "metadata": {},
   "outputs": [],
   "source": [
    "# YOUR CODE HERE"
   ]
  },
  {
   "cell_type": "markdown",
   "metadata": {},
   "source": [
    "## Main FUNCTION"
   ]
  },
  {
   "cell_type": "code",
   "execution_count": 7,
   "metadata": {},
   "outputs": [],
   "source": [
    "# YOUR CODE HERE"
   ]
  }
 ],
 "metadata": {
  "kernelspec": {
   "display_name": "Python 3",
   "language": "python",
   "name": "python3"
  },
  "language_info": {
   "codemirror_mode": {
    "name": "ipython",
    "version": 3
   },
   "file_extension": ".py",
   "mimetype": "text/x-python",
   "name": "python",
   "nbconvert_exporter": "python",
   "pygments_lexer": "ipython3",
   "version": "3.10.13"
  }
 },
 "nbformat": 4,
 "nbformat_minor": 4
}
